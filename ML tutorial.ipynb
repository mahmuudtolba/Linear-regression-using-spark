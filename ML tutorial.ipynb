{
 "cells": [
  {
   "cell_type": "code",
   "execution_count": 1,
   "id": "41880846",
   "metadata": {},
   "outputs": [],
   "source": [
    "import pyspark.sql\n",
    "import pyspark.sql.functions as F\n",
    "from pyspark.sql.types import *\n",
    "\n",
    "import matplotlib.pyplot as plt"
   ]
  },
  {
   "cell_type": "code",
   "execution_count": 2,
   "id": "c0ea1769",
   "metadata": {},
   "outputs": [],
   "source": [
    "spark = pyspark.sql.SparkSession.builder.appName('practise').getOrCreate()"
   ]
  },
  {
   "cell_type": "code",
   "execution_count": 3,
   "id": "9b62eab0",
   "metadata": {},
   "outputs": [
    {
     "data": {
      "text/html": [
       "\n",
       "            <div>\n",
       "                <p><b>SparkSession - in-memory</b></p>\n",
       "                \n",
       "        <div>\n",
       "            <p><b>SparkContext</b></p>\n",
       "\n",
       "            <p><a href=\"http://DESKTOP-2O0TDGH.mshome.net:4040\">Spark UI</a></p>\n",
       "\n",
       "            <dl>\n",
       "              <dt>Version</dt>\n",
       "                <dd><code>v3.3.1</code></dd>\n",
       "              <dt>Master</dt>\n",
       "                <dd><code>local[*]</code></dd>\n",
       "              <dt>AppName</dt>\n",
       "                <dd><code>practise</code></dd>\n",
       "            </dl>\n",
       "        </div>\n",
       "        \n",
       "            </div>\n",
       "        "
      ],
      "text/plain": [
       "<pyspark.sql.session.SparkSession at 0x1f4b311b970>"
      ]
     },
     "execution_count": 3,
     "metadata": {},
     "output_type": "execute_result"
    }
   ],
   "source": [
    "spark"
   ]
  },
  {
   "cell_type": "code",
   "execution_count": 4,
   "id": "639bd04c",
   "metadata": {},
   "outputs": [],
   "source": [
    "HOUSING_DATA = 'cal_housing.data/'"
   ]
  },
  {
   "cell_type": "code",
   "execution_count": 5,
   "id": "45a94cc6",
   "metadata": {},
   "outputs": [],
   "source": [
    "schema = StructType([\n",
    "    StructField(\"Longitude\" , FloatType() , nullable=True),\n",
    "    StructField(\"Latitude\" , FloatType() , nullable=True),\n",
    "    StructField(\"Housing Median Age\" , FloatType() , nullable=True),\n",
    "    StructField(\"Total Rooms\" , FloatType() , nullable=True),\n",
    "    StructField(\"Total Bedrooms\" , FloatType() , nullable=True),\n",
    "    StructField(\"Population\" , FloatType() , nullable=True),\n",
    "    StructField(\"Households\" , FloatType() , nullable=True),\n",
    "    StructField(\"Median Income\" , FloatType() , nullable=True),\n",
    "    StructField(\"Median House Value\" , FloatType() , nullable=True)\n",
    "])"
   ]
  },
  {
   "cell_type": "code",
   "execution_count": 6,
   "id": "5ca33fc7",
   "metadata": {},
   "outputs": [],
   "source": [
    "housing_df = spark.read.csv(HOUSING_DATA , header = True , \n",
    "                       schema=schema , inferSchema=True)"
   ]
  },
  {
   "cell_type": "code",
   "execution_count": 7,
   "id": "23e7a1ab",
   "metadata": {},
   "outputs": [
    {
     "name": "stdout",
     "output_type": "stream",
     "text": [
      "root\n",
      " |-- Longitude: float (nullable = true)\n",
      " |-- Latitude: float (nullable = true)\n",
      " |-- Housing Median Age: float (nullable = true)\n",
      " |-- Total Rooms: float (nullable = true)\n",
      " |-- Total Bedrooms: float (nullable = true)\n",
      " |-- Population: float (nullable = true)\n",
      " |-- Households: float (nullable = true)\n",
      " |-- Median Income: float (nullable = true)\n",
      " |-- Median House Value: float (nullable = true)\n",
      "\n"
     ]
    }
   ],
   "source": [
    "housing_df.printSchema()"
   ]
  },
  {
   "cell_type": "markdown",
   "id": "208c6656",
   "metadata": {},
   "source": [
    "so let's modifing the columns names"
   ]
  },
  {
   "cell_type": "code",
   "execution_count": 8,
   "id": "2cc0ac61",
   "metadata": {},
   "outputs": [],
   "source": [
    "housing_df = housing_df.toDF(*[col_name.replace(' ' ,'_').lower() for col_name in housing_df.columns])"
   ]
  },
  {
   "cell_type": "code",
   "execution_count": 9,
   "id": "ecdcad4d",
   "metadata": {},
   "outputs": [
    {
     "name": "stdout",
     "output_type": "stream",
     "text": [
      "root\n",
      " |-- longitude: float (nullable = true)\n",
      " |-- latitude: float (nullable = true)\n",
      " |-- housing_median_age: float (nullable = true)\n",
      " |-- total_rooms: float (nullable = true)\n",
      " |-- total_bedrooms: float (nullable = true)\n",
      " |-- population: float (nullable = true)\n",
      " |-- households: float (nullable = true)\n",
      " |-- median_income: float (nullable = true)\n",
      " |-- median_house_value: float (nullable = true)\n",
      "\n"
     ]
    }
   ],
   "source": [
    "housing_df.printSchema()"
   ]
  },
  {
   "cell_type": "markdown",
   "id": "f12e6f44",
   "metadata": {},
   "source": [
    "# EDA"
   ]
  },
  {
   "cell_type": "markdown",
   "id": "51f69c12",
   "metadata": {},
   "source": [
    "here we can aggerate our data using pyspark or we can transform to the pandas"
   ]
  },
  {
   "cell_type": "code",
   "execution_count": 10,
   "id": "c363b8a4",
   "metadata": {},
   "outputs": [
    {
     "data": {
      "text/html": [
       "<div>\n",
       "<style scoped>\n",
       "    .dataframe tbody tr th:only-of-type {\n",
       "        vertical-align: middle;\n",
       "    }\n",
       "\n",
       "    .dataframe tbody tr th {\n",
       "        vertical-align: top;\n",
       "    }\n",
       "\n",
       "    .dataframe thead th {\n",
       "        text-align: right;\n",
       "    }\n",
       "</style>\n",
       "<table border=\"1\" class=\"dataframe\">\n",
       "  <thead>\n",
       "    <tr style=\"text-align: right;\">\n",
       "      <th></th>\n",
       "      <th>longitude</th>\n",
       "      <th>latitude</th>\n",
       "      <th>housing_median_age</th>\n",
       "      <th>total_rooms</th>\n",
       "      <th>total_bedrooms</th>\n",
       "      <th>population</th>\n",
       "      <th>households</th>\n",
       "      <th>median_income</th>\n",
       "      <th>median_house_value</th>\n",
       "    </tr>\n",
       "  </thead>\n",
       "  <tbody>\n",
       "    <tr>\n",
       "      <th>0</th>\n",
       "      <td>-122.220001</td>\n",
       "      <td>37.860001</td>\n",
       "      <td>21.0</td>\n",
       "      <td>7099.0</td>\n",
       "      <td>1106.0</td>\n",
       "      <td>2401.0</td>\n",
       "      <td>1138.0</td>\n",
       "      <td>8.3014</td>\n",
       "      <td>358500.0</td>\n",
       "    </tr>\n",
       "    <tr>\n",
       "      <th>1</th>\n",
       "      <td>-122.239998</td>\n",
       "      <td>37.849998</td>\n",
       "      <td>52.0</td>\n",
       "      <td>1467.0</td>\n",
       "      <td>190.0</td>\n",
       "      <td>496.0</td>\n",
       "      <td>177.0</td>\n",
       "      <td>7.2574</td>\n",
       "      <td>352100.0</td>\n",
       "    </tr>\n",
       "    <tr>\n",
       "      <th>2</th>\n",
       "      <td>-122.250000</td>\n",
       "      <td>37.849998</td>\n",
       "      <td>52.0</td>\n",
       "      <td>1274.0</td>\n",
       "      <td>235.0</td>\n",
       "      <td>558.0</td>\n",
       "      <td>219.0</td>\n",
       "      <td>5.6431</td>\n",
       "      <td>341300.0</td>\n",
       "    </tr>\n",
       "    <tr>\n",
       "      <th>3</th>\n",
       "      <td>-122.250000</td>\n",
       "      <td>37.849998</td>\n",
       "      <td>52.0</td>\n",
       "      <td>1627.0</td>\n",
       "      <td>280.0</td>\n",
       "      <td>565.0</td>\n",
       "      <td>259.0</td>\n",
       "      <td>3.8462</td>\n",
       "      <td>342200.0</td>\n",
       "    </tr>\n",
       "    <tr>\n",
       "      <th>4</th>\n",
       "      <td>-122.250000</td>\n",
       "      <td>37.849998</td>\n",
       "      <td>52.0</td>\n",
       "      <td>919.0</td>\n",
       "      <td>213.0</td>\n",
       "      <td>413.0</td>\n",
       "      <td>193.0</td>\n",
       "      <td>4.0368</td>\n",
       "      <td>269700.0</td>\n",
       "    </tr>\n",
       "    <tr>\n",
       "      <th>...</th>\n",
       "      <td>...</td>\n",
       "      <td>...</td>\n",
       "      <td>...</td>\n",
       "      <td>...</td>\n",
       "      <td>...</td>\n",
       "      <td>...</td>\n",
       "      <td>...</td>\n",
       "      <td>...</td>\n",
       "      <td>...</td>\n",
       "    </tr>\n",
       "    <tr>\n",
       "      <th>20634</th>\n",
       "      <td>-121.089996</td>\n",
       "      <td>39.480000</td>\n",
       "      <td>25.0</td>\n",
       "      <td>1665.0</td>\n",
       "      <td>374.0</td>\n",
       "      <td>845.0</td>\n",
       "      <td>330.0</td>\n",
       "      <td>1.5603</td>\n",
       "      <td>78100.0</td>\n",
       "    </tr>\n",
       "    <tr>\n",
       "      <th>20635</th>\n",
       "      <td>-121.209999</td>\n",
       "      <td>39.490002</td>\n",
       "      <td>18.0</td>\n",
       "      <td>697.0</td>\n",
       "      <td>150.0</td>\n",
       "      <td>356.0</td>\n",
       "      <td>114.0</td>\n",
       "      <td>2.5568</td>\n",
       "      <td>77100.0</td>\n",
       "    </tr>\n",
       "    <tr>\n",
       "      <th>20636</th>\n",
       "      <td>-121.220001</td>\n",
       "      <td>39.430000</td>\n",
       "      <td>17.0</td>\n",
       "      <td>2254.0</td>\n",
       "      <td>485.0</td>\n",
       "      <td>1007.0</td>\n",
       "      <td>433.0</td>\n",
       "      <td>1.7000</td>\n",
       "      <td>92300.0</td>\n",
       "    </tr>\n",
       "    <tr>\n",
       "      <th>20637</th>\n",
       "      <td>-121.320000</td>\n",
       "      <td>39.430000</td>\n",
       "      <td>18.0</td>\n",
       "      <td>1860.0</td>\n",
       "      <td>409.0</td>\n",
       "      <td>741.0</td>\n",
       "      <td>349.0</td>\n",
       "      <td>1.8672</td>\n",
       "      <td>84700.0</td>\n",
       "    </tr>\n",
       "    <tr>\n",
       "      <th>20638</th>\n",
       "      <td>-121.239998</td>\n",
       "      <td>39.369999</td>\n",
       "      <td>16.0</td>\n",
       "      <td>2785.0</td>\n",
       "      <td>616.0</td>\n",
       "      <td>1387.0</td>\n",
       "      <td>530.0</td>\n",
       "      <td>2.3886</td>\n",
       "      <td>89400.0</td>\n",
       "    </tr>\n",
       "  </tbody>\n",
       "</table>\n",
       "<p>20639 rows × 9 columns</p>\n",
       "</div>"
      ],
      "text/plain": [
       "        longitude   latitude  housing_median_age  total_rooms  total_bedrooms  \\\n",
       "0     -122.220001  37.860001                21.0       7099.0          1106.0   \n",
       "1     -122.239998  37.849998                52.0       1467.0           190.0   \n",
       "2     -122.250000  37.849998                52.0       1274.0           235.0   \n",
       "3     -122.250000  37.849998                52.0       1627.0           280.0   \n",
       "4     -122.250000  37.849998                52.0        919.0           213.0   \n",
       "...           ...        ...                 ...          ...             ...   \n",
       "20634 -121.089996  39.480000                25.0       1665.0           374.0   \n",
       "20635 -121.209999  39.490002                18.0        697.0           150.0   \n",
       "20636 -121.220001  39.430000                17.0       2254.0           485.0   \n",
       "20637 -121.320000  39.430000                18.0       1860.0           409.0   \n",
       "20638 -121.239998  39.369999                16.0       2785.0           616.0   \n",
       "\n",
       "       population  households  median_income  median_house_value  \n",
       "0          2401.0      1138.0         8.3014            358500.0  \n",
       "1           496.0       177.0         7.2574            352100.0  \n",
       "2           558.0       219.0         5.6431            341300.0  \n",
       "3           565.0       259.0         3.8462            342200.0  \n",
       "4           413.0       193.0         4.0368            269700.0  \n",
       "...           ...         ...            ...                 ...  \n",
       "20634       845.0       330.0         1.5603             78100.0  \n",
       "20635       356.0       114.0         2.5568             77100.0  \n",
       "20636      1007.0       433.0         1.7000             92300.0  \n",
       "20637       741.0       349.0         1.8672             84700.0  \n",
       "20638      1387.0       530.0         2.3886             89400.0  \n",
       "\n",
       "[20639 rows x 9 columns]"
      ]
     },
     "execution_count": 10,
     "metadata": {},
     "output_type": "execute_result"
    }
   ],
   "source": [
    "housing_df.toPandas()"
   ]
  },
  {
   "cell_type": "markdown",
   "id": "9554a9f2",
   "metadata": {},
   "source": [
    "for any regression problem the first thing to do is to check the distribution of the target variable"
   ]
  },
  {
   "cell_type": "code",
   "execution_count": 11,
   "id": "6782a154",
   "metadata": {},
   "outputs": [
    {
     "data": {
      "image/png": "[encoded data removed]",
      "text/plain": [
       "<Figure size 1000x800 with 1 Axes>"
      ]
     },
     "metadata": {},
     "output_type": "display_data"
    }
   ],
   "source": [
    "housing_df.select(F.col('median_house_value')).toPandas().plot.hist(bins = 40,\n",
    "                  figsize = (10,8))\n",
    "plt.show()"
   ]
  },
  {
   "cell_type": "markdown",
   "id": "3dc672b9",
   "metadata": {},
   "source": [
    "not perfect but acceptable otherwise take the log transformation"
   ]
  },
  {
   "cell_type": "code",
   "execution_count": 12,
   "id": "77b958f5",
   "metadata": {},
   "outputs": [],
   "source": [
    "def return_summary(df):\n",
    "    \"\"\"\n",
    "    return the rounded summary of dataframe\n",
    "    \"\"\"\n",
    "    housing_df_describe = df.summary()\n",
    "    for col in housing_df_describe.columns[1:]:\n",
    "        housing_df_describe = housing_df_describe.withColumn(col , F.round(col , 2))\n",
    "\n",
    "    return housing_df_describe.toPandas().set_index('summary')"
   ]
  },
  {
   "cell_type": "code",
   "execution_count": 13,
   "id": "7a9bf6d3",
   "metadata": {
    "scrolled": true
   },
   "outputs": [
    {
     "data": {
      "text/html": [
       "<div>\n",
       "<style scoped>\n",
       "    .dataframe tbody tr th:only-of-type {\n",
       "        vertical-align: middle;\n",
       "    }\n",
       "\n",
       "    .dataframe tbody tr th {\n",
       "        vertical-align: top;\n",
       "    }\n",
       "\n",
       "    .dataframe thead th {\n",
       "        text-align: right;\n",
       "    }\n",
       "</style>\n",
       "<table border=\"1\" class=\"dataframe\">\n",
       "  <thead>\n",
       "    <tr style=\"text-align: right;\">\n",
       "      <th></th>\n",
       "      <th>longitude</th>\n",
       "      <th>latitude</th>\n",
       "      <th>housing_median_age</th>\n",
       "      <th>total_rooms</th>\n",
       "      <th>total_bedrooms</th>\n",
       "      <th>population</th>\n",
       "      <th>households</th>\n",
       "      <th>median_income</th>\n",
       "      <th>median_house_value</th>\n",
       "    </tr>\n",
       "    <tr>\n",
       "      <th>summary</th>\n",
       "      <th></th>\n",
       "      <th></th>\n",
       "      <th></th>\n",
       "      <th></th>\n",
       "      <th></th>\n",
       "      <th></th>\n",
       "      <th></th>\n",
       "      <th></th>\n",
       "      <th></th>\n",
       "    </tr>\n",
       "  </thead>\n",
       "  <tbody>\n",
       "    <tr>\n",
       "      <th>count</th>\n",
       "      <td>20639.00</td>\n",
       "      <td>20639.00</td>\n",
       "      <td>20639.00</td>\n",
       "      <td>20639.00</td>\n",
       "      <td>20639.00</td>\n",
       "      <td>20639.00</td>\n",
       "      <td>20639.00</td>\n",
       "      <td>20639.00</td>\n",
       "      <td>20639.00</td>\n",
       "    </tr>\n",
       "    <tr>\n",
       "      <th>mean</th>\n",
       "      <td>-119.57</td>\n",
       "      <td>35.63</td>\n",
       "      <td>28.64</td>\n",
       "      <td>2635.85</td>\n",
       "      <td>537.92</td>\n",
       "      <td>1425.53</td>\n",
       "      <td>499.56</td>\n",
       "      <td>3.87</td>\n",
       "      <td>206843.91</td>\n",
       "    </tr>\n",
       "    <tr>\n",
       "      <th>stddev</th>\n",
       "      <td>2.00</td>\n",
       "      <td>2.14</td>\n",
       "      <td>12.59</td>\n",
       "      <td>2181.63</td>\n",
       "      <td>421.25</td>\n",
       "      <td>1132.46</td>\n",
       "      <td>382.33</td>\n",
       "      <td>1.90</td>\n",
       "      <td>115385.73</td>\n",
       "    </tr>\n",
       "    <tr>\n",
       "      <th>min</th>\n",
       "      <td>-124.35</td>\n",
       "      <td>32.54</td>\n",
       "      <td>1.00</td>\n",
       "      <td>2.00</td>\n",
       "      <td>1.00</td>\n",
       "      <td>3.00</td>\n",
       "      <td>1.00</td>\n",
       "      <td>0.50</td>\n",
       "      <td>14999.00</td>\n",
       "    </tr>\n",
       "    <tr>\n",
       "      <th>25%</th>\n",
       "      <td>-121.80</td>\n",
       "      <td>33.93</td>\n",
       "      <td>18.00</td>\n",
       "      <td>1448.00</td>\n",
       "      <td>295.00</td>\n",
       "      <td>787.00</td>\n",
       "      <td>280.00</td>\n",
       "      <td>2.56</td>\n",
       "      <td>119600.00</td>\n",
       "    </tr>\n",
       "    <tr>\n",
       "      <th>50%</th>\n",
       "      <td>-118.49</td>\n",
       "      <td>34.26</td>\n",
       "      <td>29.00</td>\n",
       "      <td>2127.00</td>\n",
       "      <td>435.00</td>\n",
       "      <td>1166.00</td>\n",
       "      <td>409.00</td>\n",
       "      <td>3.53</td>\n",
       "      <td>179700.00</td>\n",
       "    </tr>\n",
       "    <tr>\n",
       "      <th>75%</th>\n",
       "      <td>-118.01</td>\n",
       "      <td>37.71</td>\n",
       "      <td>37.00</td>\n",
       "      <td>3147.00</td>\n",
       "      <td>647.00</td>\n",
       "      <td>1725.00</td>\n",
       "      <td>605.00</td>\n",
       "      <td>4.74</td>\n",
       "      <td>264700.00</td>\n",
       "    </tr>\n",
       "    <tr>\n",
       "      <th>max</th>\n",
       "      <td>-114.31</td>\n",
       "      <td>41.95</td>\n",
       "      <td>52.00</td>\n",
       "      <td>39320.00</td>\n",
       "      <td>6445.00</td>\n",
       "      <td>35682.00</td>\n",
       "      <td>6082.00</td>\n",
       "      <td>15.00</td>\n",
       "      <td>500001.00</td>\n",
       "    </tr>\n",
       "  </tbody>\n",
       "</table>\n",
       "</div>"
      ],
      "text/plain": [
       "         longitude  latitude  housing_median_age  total_rooms  total_bedrooms  \\\n",
       "summary                                                                         \n",
       "count     20639.00  20639.00            20639.00     20639.00        20639.00   \n",
       "mean       -119.57     35.63               28.64      2635.85          537.92   \n",
       "stddev        2.00      2.14               12.59      2181.63          421.25   \n",
       "min        -124.35     32.54                1.00         2.00            1.00   \n",
       "25%        -121.80     33.93               18.00      1448.00          295.00   \n",
       "50%        -118.49     34.26               29.00      2127.00          435.00   \n",
       "75%        -118.01     37.71               37.00      3147.00          647.00   \n",
       "max        -114.31     41.95               52.00     39320.00         6445.00   \n",
       "\n",
       "         population  households  median_income  median_house_value  \n",
       "summary                                                             \n",
       "count      20639.00    20639.00       20639.00            20639.00  \n",
       "mean        1425.53      499.56           3.87           206843.91  \n",
       "stddev      1132.46      382.33           1.90           115385.73  \n",
       "min            3.00        1.00           0.50            14999.00  \n",
       "25%          787.00      280.00           2.56           119600.00  \n",
       "50%         1166.00      409.00           3.53           179700.00  \n",
       "75%         1725.00      605.00           4.74           264700.00  \n",
       "max        35682.00     6082.00          15.00           500001.00  "
      ]
     },
     "execution_count": 13,
     "metadata": {},
     "output_type": "execute_result"
    }
   ],
   "source": [
    "return_summary(housing_df)"
   ]
  },
  {
   "cell_type": "markdown",
   "id": "8f35da28",
   "metadata": {},
   "source": [
    "nice we don't have zero values"
   ]
  },
  {
   "cell_type": "markdown",
   "id": "7ac09a70",
   "metadata": {},
   "source": [
    "# Feature Engineering"
   ]
  },
  {
   "cell_type": "code",
   "execution_count": 14,
   "id": "80d1582b",
   "metadata": {},
   "outputs": [],
   "source": [
    "housing_df = (housing_df.withColumn(\"rmsperhh\", F.round(F.col(\"total_rooms\")/F.col(\"households\"), 2))\n",
    "                       .withColumn(\"popperhh\", F.round(F.col(\"population\")/F.col(\"households\"), 2))\n",
    "                       .withColumn(\"bdrmsperrm\", F.round(F.col(\"total_bedrooms\")/F.col(\"total_rooms\"), 2)))"
   ]
  },
  {
   "cell_type": "code",
   "execution_count": 15,
   "id": "f9d24714",
   "metadata": {},
   "outputs": [],
   "source": [
    "housing_df = housing_df.drop(*[\"longitude\" , \"latitude\"])"
   ]
  },
  {
   "cell_type": "code",
   "execution_count": 16,
   "id": "7b572f41",
   "metadata": {},
   "outputs": [],
   "source": [
    "housing_df = housing_df.withColumn(\"median_house_value\", F.col(\"median_house_value\")/100000)\n"
   ]
  },
  {
   "cell_type": "code",
   "execution_count": 17,
   "id": "dce061a4",
   "metadata": {},
   "outputs": [
    {
     "name": "stdout",
     "output_type": "stream",
     "text": [
      "root\n",
      " |-- housing_median_age: float (nullable = true)\n",
      " |-- total_rooms: float (nullable = true)\n",
      " |-- total_bedrooms: float (nullable = true)\n",
      " |-- population: float (nullable = true)\n",
      " |-- households: float (nullable = true)\n",
      " |-- median_income: float (nullable = true)\n",
      " |-- median_house_value: double (nullable = true)\n",
      " |-- rmsperhh: double (nullable = true)\n",
      " |-- popperhh: double (nullable = true)\n",
      " |-- bdrmsperrm: double (nullable = true)\n",
      "\n"
     ]
    }
   ],
   "source": [
    "housing_df.printSchema()"
   ]
  },
  {
   "cell_type": "code",
   "execution_count": 18,
   "id": "0ea4cab7",
   "metadata": {},
   "outputs": [
    {
     "data": {
      "text/plain": [
       "['housing_median_age',\n",
       " 'total_rooms',\n",
       " 'total_bedrooms',\n",
       " 'population',\n",
       " 'households',\n",
       " 'median_income',\n",
       " 'median_house_value',\n",
       " 'rmsperhh',\n",
       " 'popperhh',\n",
       " 'bdrmsperrm']"
      ]
     },
     "execution_count": 18,
     "metadata": {},
     "output_type": "execute_result"
    }
   ],
   "source": [
    "housing_df.columns"
   ]
  },
  {
   "cell_type": "code",
   "execution_count": 19,
   "id": "ce5fe915",
   "metadata": {},
   "outputs": [],
   "source": [
    "feature_cols = ['housing_median_age',\n",
    " 'total_rooms',\n",
    " 'total_bedrooms',\n",
    " 'population',\n",
    " 'households',\n",
    " 'median_income',\n",
    " 'rmsperhh',\n",
    " 'popperhh',\n",
    " 'bdrmsperrm']"
   ]
  },
  {
   "cell_type": "markdown",
   "id": "4330b4e7",
   "metadata": {},
   "source": [
    "preparing for machine learning model"
   ]
  },
  {
   "cell_type": "code",
   "execution_count": 20,
   "id": "f2c316ed",
   "metadata": {},
   "outputs": [],
   "source": [
    "from pyspark.ml.feature import VectorAssembler , StandardScaler"
   ]
  },
  {
   "cell_type": "code",
   "execution_count": 21,
   "id": "ff940bc5",
   "metadata": {},
   "outputs": [],
   "source": [
    "assembler = VectorAssembler(inputCols=feature_cols , outputCol=\"features\")"
   ]
  },
  {
   "cell_type": "code",
   "execution_count": 22,
   "id": "fa19d654",
   "metadata": {},
   "outputs": [],
   "source": [
    "assembled_df = assembler.transform(housing_df)"
   ]
  },
  {
   "cell_type": "markdown",
   "id": "95a954a8",
   "metadata": {},
   "source": [
    "that is our input data to the model"
   ]
  },
  {
   "cell_type": "code",
   "execution_count": 23,
   "id": "fa8e5aa1",
   "metadata": {},
   "outputs": [
    {
     "name": "stdout",
     "output_type": "stream",
     "text": [
      "+--------------------+\n",
      "|            features|\n",
      "+--------------------+\n",
      "|[21.0,7099.0,1106...|\n",
      "|[52.0,1467.0,190....|\n",
      "|[52.0,1274.0,235....|\n",
      "|[52.0,1627.0,280....|\n",
      "|[52.0,919.0,213.0...|\n",
      "|[52.0,2535.0,489....|\n",
      "|[52.0,3104.0,687....|\n",
      "|[42.0,2555.0,665....|\n",
      "|[52.0,3549.0,707....|\n",
      "|[52.0,2202.0,434....|\n",
      "|[52.0,3503.0,752....|\n",
      "|[52.0,2491.0,474....|\n",
      "|[52.0,696.0,191.0...|\n",
      "|[52.0,2643.0,626....|\n",
      "|[50.0,1120.0,283....|\n",
      "|[52.0,1966.0,347....|\n",
      "|[52.0,1228.0,293....|\n",
      "|[50.0,2239.0,455....|\n",
      "|[52.0,1503.0,298....|\n",
      "|[40.0,751.0,184.0...|\n",
      "+--------------------+\n",
      "only showing top 20 rows\n",
      "\n"
     ]
    }
   ],
   "source": [
    "assembled_df.select('features').show()"
   ]
  },
  {
   "cell_type": "markdown",
   "id": "9cefe85b",
   "metadata": {},
   "source": [
    "but first we need to transform ist using standard scaler to make it easy for gradient desecent"
   ]
  },
  {
   "cell_type": "code",
   "execution_count": 24,
   "id": "4e903069",
   "metadata": {},
   "outputs": [],
   "source": [
    "standardScaler = StandardScaler(inputCol=\"features\" , outputCol=\"standardFeatures\")"
   ]
  },
  {
   "cell_type": "code",
   "execution_count": 25,
   "id": "0232b26f",
   "metadata": {},
   "outputs": [],
   "source": [
    "scaled_df = standardScaler.fit(assembled_df).transform(assembled_df)"
   ]
  },
  {
   "cell_type": "code",
   "execution_count": 26,
   "id": "4d0e57b6",
   "metadata": {},
   "outputs": [
    {
     "name": "stdout",
     "output_type": "stream",
     "text": [
      "+--------------------+--------------------+\n",
      "|            features|    standardFeatures|\n",
      "+--------------------+--------------------+\n",
      "|[21.0,7099.0,1106...|[1.66857779678232...|\n",
      "|[52.0,1467.0,190....|[4.13171644917529...|\n",
      "|[52.0,1274.0,235....|[4.13171644917529...|\n",
      "|[52.0,1627.0,280....|[4.13171644917529...|\n",
      "|[52.0,919.0,213.0...|[4.13171644917529...|\n",
      "|[52.0,2535.0,489....|[4.13171644917529...|\n",
      "|[52.0,3104.0,687....|[4.13171644917529...|\n",
      "|[42.0,2555.0,665....|[3.33715559356465...|\n",
      "|[52.0,3549.0,707....|[4.13171644917529...|\n",
      "|[52.0,2202.0,434....|[4.13171644917529...|\n",
      "|[52.0,3503.0,752....|[4.13171644917529...|\n",
      "|[52.0,2491.0,474....|[4.13171644917529...|\n",
      "|[52.0,696.0,191.0...|[4.13171644917529...|\n",
      "|[52.0,2643.0,626....|[4.13171644917529...|\n",
      "|[50.0,1120.0,283....|[3.97280427805316...|\n",
      "|[52.0,1966.0,347....|[4.13171644917529...|\n",
      "|[52.0,1228.0,293....|[4.13171644917529...|\n",
      "|[50.0,2239.0,455....|[3.97280427805316...|\n",
      "|[52.0,1503.0,298....|[4.13171644917529...|\n",
      "|[40.0,751.0,184.0...|[3.17824342244253...|\n",
      "+--------------------+--------------------+\n",
      "only showing top 20 rows\n",
      "\n"
     ]
    }
   ],
   "source": [
    "scaled_df.select(['features' , 'standardFeatures']).show(truncate=True)"
   ]
  },
  {
   "cell_type": "markdown",
   "id": "5cbe303b",
   "metadata": {},
   "source": [
    "# Building a machine learning model using sparkML"
   ]
  },
  {
   "cell_type": "markdown",
   "id": "288f470c",
   "metadata": {},
   "source": [
    "but first we need to split the data for training and testing"
   ]
  },
  {
   "cell_type": "code",
   "execution_count": 27,
   "id": "34a4bc80",
   "metadata": {},
   "outputs": [],
   "source": [
    "train_data , test_data = scaled_df.randomSplit([0.8 , 0.2 ] , seed=2)"
   ]
  },
  {
   "cell_type": "code",
   "execution_count": 28,
   "id": "78918463",
   "metadata": {},
   "outputs": [
    {
     "name": "stdout",
     "output_type": "stream",
     "text": [
      "root\n",
      " |-- housing_median_age: float (nullable = true)\n",
      " |-- total_rooms: float (nullable = true)\n",
      " |-- total_bedrooms: float (nullable = true)\n",
      " |-- population: float (nullable = true)\n",
      " |-- households: float (nullable = true)\n",
      " |-- median_income: float (nullable = true)\n",
      " |-- median_house_value: double (nullable = true)\n",
      " |-- rmsperhh: double (nullable = true)\n",
      " |-- popperhh: double (nullable = true)\n",
      " |-- bdrmsperrm: double (nullable = true)\n",
      " |-- features: vector (nullable = true)\n",
      " |-- standardFeatures: vector (nullable = true)\n",
      "\n"
     ]
    }
   ],
   "source": [
    "train_data.printSchema()"
   ]
  },
  {
   "cell_type": "code",
   "execution_count": 29,
   "id": "da49f9df",
   "metadata": {},
   "outputs": [],
   "source": [
    "from pyspark.ml.regression import LinearRegression"
   ]
  },
  {
   "cell_type": "code",
   "execution_count": 30,
   "id": "7b57c411",
   "metadata": {},
   "outputs": [],
   "source": [
    "lr = LinearRegression(featuresCol=\"standardFeatures\", \n",
    "                     labelCol=\"median_house_value\" , \n",
    "                    predictionCol='predmedhv',# That where we store predciction\n",
    "                      maxIter=10 ,\n",
    "                      regParam=0.3,\n",
    "                      elasticNetParam=0.8 , \n",
    "                      standardization=False # As we did before\n",
    "                     )"
   ]
  },
  {
   "cell_type": "code",
   "execution_count": 31,
   "id": "d047dfb6",
   "metadata": {},
   "outputs": [],
   "source": [
    "linearModel = lr.fit(train_data)"
   ]
  },
  {
   "cell_type": "markdown",
   "id": "3f4ae850",
   "metadata": {},
   "source": [
    "# evaluation"
   ]
  },
  {
   "cell_type": "markdown",
   "id": "aa9916b1",
   "metadata": {},
   "source": [
    "let's see our training metrics"
   ]
  },
  {
   "cell_type": "code",
   "execution_count": 32,
   "id": "93e4bf10",
   "metadata": {},
   "outputs": [
    {
     "name": "stdout",
     "output_type": "stream",
     "text": [
      "RMSE: 0.8804133184783351\n"
     ]
    }
   ],
   "source": [
    "# Get the RMSE\n",
    "print(\"RMSE: {0}\".format(linearModel.summary.rootMeanSquaredError))"
   ]
  },
  {
   "cell_type": "code",
   "execution_count": 33,
   "id": "efb91077",
   "metadata": {
    "scrolled": true
   },
   "outputs": [
    {
     "name": "stdout",
     "output_type": "stream",
     "text": [
      "MAE: 0.6751055862930975\n"
     ]
    }
   ],
   "source": [
    "print(\"MAE: {0}\".format(linearModel.summary.meanAbsoluteError))"
   ]
  },
  {
   "cell_type": "code",
   "execution_count": 34,
   "id": "84b60fb0",
   "metadata": {
    "scrolled": true
   },
   "outputs": [
    {
     "name": "stdout",
     "output_type": "stream",
     "text": [
      "R2: 0.41600451894998003\n"
     ]
    }
   ],
   "source": [
    "# Get the R2\n",
    "print(\"R2: {0}\".format(linearModel.summary.r2))"
   ]
  },
  {
   "cell_type": "markdown",
   "id": "57eae3a2",
   "metadata": {},
   "source": [
    "seems nice what about testing ones"
   ]
  },
  {
   "cell_type": "code",
   "execution_count": 35,
   "id": "043a89c5",
   "metadata": {},
   "outputs": [],
   "source": [
    "predictions = linearModel.transform(test_data)"
   ]
  },
  {
   "cell_type": "markdown",
   "id": "b5052bca",
   "metadata": {},
   "source": [
    "saving the predictions in $test  data$ is strange thing if you came from sklearn background but that is the case at spark"
   ]
  },
  {
   "cell_type": "code",
   "execution_count": 36,
   "id": "51c78f73",
   "metadata": {},
   "outputs": [],
   "source": [
    "predandlabels = predictions.select([\"median_house_value\" , \"predmedhv\"])"
   ]
  },
  {
   "cell_type": "code",
   "execution_count": 37,
   "id": "2886cefb",
   "metadata": {},
   "outputs": [
    {
     "name": "stdout",
     "output_type": "stream",
     "text": [
      "RMSE: 0.8785091734318277\n"
     ]
    }
   ],
   "source": [
    "from pyspark.ml.evaluation import RegressionEvaluator\n",
    "evaluator = RegressionEvaluator(predictionCol=\"predmedhv\" ,\n",
    "                               labelCol=\"median_house_value\" , \n",
    "                               metricName='rmse')\n",
    "print(\"RMSE: {0}\".format(evaluator.evaluate(predandlabels)))"
   ]
  },
  {
   "cell_type": "code",
   "execution_count": 38,
   "id": "d40a43aa",
   "metadata": {},
   "outputs": [
    {
     "name": "stdout",
     "output_type": "stream",
     "text": [
      "MAE: 0.6821494410239334\n"
     ]
    }
   ],
   "source": [
    "evaluator = RegressionEvaluator(predictionCol=\"predmedhv\" ,\n",
    "                               labelCol=\"median_house_value\" , \n",
    "                               metricName='mae')\n",
    "print(\"MAE: {0}\".format(evaluator.evaluate(predandlabels)))"
   ]
  },
  {
   "cell_type": "code",
   "execution_count": 39,
   "id": "07f40010",
   "metadata": {},
   "outputs": [
    {
     "name": "stdout",
     "output_type": "stream",
     "text": [
      "R2: 0.42725899564009007\n"
     ]
    }
   ],
   "source": [
    "evaluator = RegressionEvaluator(predictionCol=\"predmedhv\" ,\n",
    "                               labelCol=\"median_house_value\" , \n",
    "                               metricName='r2')\n",
    "print(\"R2: {0}\".format(evaluator.evaluate(predandlabels)))"
   ]
  }
 ],
 "metadata": {
  "kernelspec": {
   "display_name": "learning_spark",
   "language": "python",
   "name": "learning_spark"
  },
  "language_info": {
   "codemirror_mode": {
    "name": "ipython",
    "version": 3
   },
   "file_extension": ".py",
   "mimetype": "text/x-python",
   "name": "python",
   "nbconvert_exporter": "python",
   "pygments_lexer": "ipython3",
   "version": "3.9.15"
  }
 },
 "nbformat": 4,
 "nbformat_minor": 5
}
